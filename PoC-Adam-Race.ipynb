{
  "cells": [
    {
      "cell_type": "code",
      "execution_count": 147,
      "id": "75a58c97-79e9-4165-8ace-f40dc24571a9",
      "metadata": {
        "id": "75a58c97-79e9-4165-8ace-f40dc24571a9"
      },
      "outputs": [],
      "source": [
        "import sklearn\n",
        "import numpy as np\n",
        "import matplotlib.pyplot as plt\n",
        "from tqdm import tqdm\n",
        "from sklearn.datasets import make_moons\n",
        "from sklearn.utils import shuffle"
      ]
    },
    {
      "cell_type": "code",
      "execution_count": 148,
      "id": "02469c78-8e8c-47cc-b910-f5a6934bf3b5",
      "metadata": {
        "id": "02469c78-8e8c-47cc-b910-f5a6934bf3b5"
      },
      "outputs": [],
      "source": [
        "n = 10016\n",
        "batch_size = 32"
      ]
    },
    {
      "cell_type": "code",
      "execution_count": 149,
      "id": "6aa0fb91-19f9-487d-afb1-96a5fc79d372",
      "metadata": {
        "id": "6aa0fb91-19f9-487d-afb1-96a5fc79d372"
      },
      "outputs": [],
      "source": [
        "X, Y = make_moons(n_samples=n, noise=0.1)\n",
        "X, Y = shuffle(X, Y, random_state=72)"
      ]
    },
    {
      "cell_type": "code",
      "execution_count": 150,
      "id": "d7c77073-eb5c-4afd-af0f-16b4b76338d6",
      "metadata": {
        "id": "d7c77073-eb5c-4afd-af0f-16b4b76338d6"
      },
      "outputs": [],
      "source": [
        "Xs = []\n",
        "Ys = []\n",
        "batch_num = int(np.ceil(len(X) / batch_size))"
      ]
    },
    {
      "cell_type": "code",
      "execution_count": 151,
      "id": "a0f8e6c3-f069-4ba7-8387-23a15c4f7749",
      "metadata": {
        "id": "a0f8e6c3-f069-4ba7-8387-23a15c4f7749"
      },
      "outputs": [],
      "source": [
        "for i in range(batch_num):\n",
        "    start = i * batch_size\n",
        "    end = start + batch_size\n",
        "    Xs.append(X[start:end])\n",
        "    Ys.append(Y[start:end])"
      ]
    },
    {
      "cell_type": "code",
      "execution_count": 152,
      "id": "acf84648-11bd-42c8-aa36-2fbda6de26f8",
      "metadata": {
        "id": "acf84648-11bd-42c8-aa36-2fbda6de26f8"
      },
      "outputs": [],
      "source": [
        "Xs = np.array(Xs).reshape(batch_num, batch_size, 2, 1)\n",
        "Ys = np.array(Ys).reshape(batch_num, batch_size, 1, 1)\n",
        "X = X.reshape(n, 2, 1)\n",
        "Y = Y.reshape(n, 1, 1)"
      ]
    },
    {
      "cell_type": "code",
      "execution_count": 153,
      "id": "4a5652f5-d8ac-4d0a-8f09-06dbb10e8400",
      "metadata": {
        "id": "4a5652f5-d8ac-4d0a-8f09-06dbb10e8400"
      },
      "outputs": [],
      "source": [
        "size = [2, 10, 5, 1]"
      ]
    },
    {
      "cell_type": "code",
      "execution_count": 154,
      "id": "60650e61-bcef-4015-aef8-6eed1a938511",
      "metadata": {
        "id": "60650e61-bcef-4015-aef8-6eed1a938511"
      },
      "outputs": [],
      "source": [
        "weights = [0]\n",
        "biases = [0]\n",
        "for i in range(0, len(size) - 1):\n",
        "    weights.append(np.random.rand(size[i + 1], size[i]))\n",
        "    biases.append(np.random.rand(size[i + 1], 1))"
      ]
    },
    {
      "cell_type": "code",
      "execution_count": 155,
      "id": "660bfc41-ba1f-4fe1-b45d-3301ef9cea48",
      "metadata": {
        "scrolled": true,
        "colab": {
          "base_uri": "https://localhost:8080/"
        },
        "id": "660bfc41-ba1f-4fe1-b45d-3301ef9cea48",
        "outputId": "84172670-56f4-4a77-9582-bb5f6396d6db"
      },
      "outputs": [
        {
          "output_type": "execute_result",
          "data": {
            "text/plain": [
              "[0,\n",
              " array([[0.95985306, 0.90385927],\n",
              "        [0.85077379, 0.04986331],\n",
              "        [0.09023366, 0.33695476],\n",
              "        [0.24351624, 0.0765251 ],\n",
              "        [0.67719296, 0.8629407 ],\n",
              "        [0.94189542, 0.49765498],\n",
              "        [0.32925475, 0.70172597],\n",
              "        [0.42504879, 0.75445369],\n",
              "        [0.68013049, 0.62906304],\n",
              "        [0.85376503, 0.39199793]]),\n",
              " array([[0.15850054, 0.63840564, 0.45108912, 0.5296283 , 0.86880553,\n",
              "         0.71742102, 0.49401923, 0.93156636, 0.26121428, 0.6807936 ],\n",
              "        [0.60249377, 0.40424151, 0.97798688, 0.69652276, 0.1365516 ,\n",
              "         0.70445447, 0.74000987, 0.92927478, 0.80774946, 0.17789342],\n",
              "        [0.36817682, 0.08179582, 0.98717719, 0.22574008, 0.89155667,\n",
              "         0.43203504, 0.89252449, 0.42332459, 0.10404691, 0.5455261 ],\n",
              "        [0.03421318, 0.47909279, 0.23585459, 0.68315243, 0.68658566,\n",
              "         0.585004  , 0.74215408, 0.11664904, 0.99043439, 0.85984144],\n",
              "        [0.96504346, 0.59046735, 0.95790349, 0.37752846, 0.25443665,\n",
              "         0.76296269, 0.21825661, 0.82725523, 0.59654158, 0.59419568]]),\n",
              " array([[0.77226085, 0.86491024, 0.86566521, 0.99820111, 0.0549072 ]])]"
            ]
          },
          "metadata": {},
          "execution_count": 155
        }
      ],
      "source": [
        "weights"
      ]
    },
    {
      "cell_type": "code",
      "execution_count": 156,
      "id": "96724f97-0ff4-40ef-a51d-a5ba8ca08b42",
      "metadata": {
        "id": "96724f97-0ff4-40ef-a51d-a5ba8ca08b42"
      },
      "outputs": [],
      "source": [
        "def sigmoid(x):\n",
        "    return 1 / (1 + np.exp(-x))"
      ]
    },
    {
      "cell_type": "code",
      "execution_count": 157,
      "id": "5c51992c-9b7f-4133-8cae-5b3d37c6f5d6",
      "metadata": {
        "id": "5c51992c-9b7f-4133-8cae-5b3d37c6f5d6"
      },
      "outputs": [],
      "source": [
        "def L(y_hat, y):\n",
        "    return 0.5 * (y_hat - y) ** 2"
      ]
    },
    {
      "cell_type": "code",
      "execution_count": 158,
      "id": "d2ce48b8-d9bb-4250-b881-285db0131a09",
      "metadata": {
        "id": "d2ce48b8-d9bb-4250-b881-285db0131a09"
      },
      "outputs": [],
      "source": [
        "def feed_forward(xi, weights, biases):\n",
        "    activations = [xi]\n",
        "    z1 = weights[1] @ xi + biases[1]\n",
        "    a1 = sigmoid(z1)\n",
        "    activations.append(a1)\n",
        "    for i in range(2, len(weights)):\n",
        "        zn = weights[i] @ activations[-1] + biases[i]\n",
        "        an = sigmoid(zn)\n",
        "        activations.append(an)\n",
        "    return activations"
      ]
    },
    {
      "cell_type": "code",
      "execution_count": 159,
      "id": "0fc82b44-8373-49a6-a433-abb752f4c20b",
      "metadata": {
        "id": "0fc82b44-8373-49a6-a433-abb752f4c20b"
      },
      "outputs": [],
      "source": [
        "def sigmoid_derivative(y):\n",
        "    return y * ( 1 - y )"
      ]
    },
    {
      "cell_type": "code",
      "execution_count": 160,
      "id": "533de124-4751-46b2-84ca-99d3ac888f1a",
      "metadata": {
        "id": "533de124-4751-46b2-84ca-99d3ac888f1a"
      },
      "outputs": [],
      "source": [
        "def backprop(weights, biases, xi, y, activations):\n",
        "    deltas = [0] * len(activations)\n",
        "    dL_dwK = [0] * len(activations)\n",
        "    dL_dbK = [0] * len(activations)\n",
        "\n",
        "    deltas[-1] = ( activations[-1] - y ) * sigmoid_derivative(activations[-1])\n",
        "    dL_dwK[-1] = deltas[-1] @ activations[-1].T\n",
        "    dL_dbK[-1] = deltas[-1]\n",
        "\n",
        "    for i in range(len(deltas)-2, 1, -1):\n",
        "        deltas[i] = ( weights[i+1].T @ deltas[ i + 1 ] ) * sigmoid_derivative(activations[i])\n",
        "        dL_dwK[i] = deltas[i] @ activations[ i - 1 ].T\n",
        "        dL_dbK[i] = deltas[i]\n",
        "\n",
        "    return dL_dwK, dL_dbK"
      ]
    },
    {
      "cell_type": "code",
      "execution_count": 161,
      "id": "754edf66-0bf2-419d-9c02-1b1edce76f5b",
      "metadata": {
        "scrolled": true,
        "colab": {
          "base_uri": "https://localhost:8080/"
        },
        "id": "754edf66-0bf2-419d-9c02-1b1edce76f5b",
        "outputId": "92ea8447-6a4a-48eb-8ea9-8a63830707f3"
      },
      "outputs": [
        {
          "output_type": "stream",
          "name": "stdout",
          "text": [
            "[array([[-0.76764797],\n",
            "       [ 0.8011585 ]]), array([[0.50547582],\n",
            "       [0.40454156],\n",
            "       [0.66700947],\n",
            "       [0.49495943],\n",
            "       [0.63034775],\n",
            "       [0.57999124],\n",
            "       [0.63861442],\n",
            "       [0.58160648],\n",
            "       [0.68103212],\n",
            "       [0.5459224 ]]), array([[0.97859937],\n",
            "       [0.98949086],\n",
            "       [0.97822417],\n",
            "       [0.98052354],\n",
            "       [0.98297309]]), array([[0.97896418]])]\n",
            "(5, 10)\n",
            "(1, 1)\n"
          ]
        }
      ],
      "source": [
        "act = feed_forward(Xs[0][2], weights, biases)\n",
        "print(act)\n",
        "bc = backprop(weights, biases, Xs[0][2], Ys[0][2], act)[0]\n",
        "for w in bc:\n",
        "    if type(w) is not int: print(w.shape)"
      ]
    },
    {
      "cell_type": "code",
      "execution_count": 162,
      "id": "57c258fe-634f-4306-98a5-45c3be894985",
      "metadata": {
        "id": "57c258fe-634f-4306-98a5-45c3be894985"
      },
      "outputs": [],
      "source": [
        "epochs = 20\n",
        "lr = 0.01\n",
        "loss = []\n",
        "pm, pv, t = 0, 0, 1\n",
        "beta_1 = 0.9\n",
        "vt1 = [0]*len(weights)\n",
        "gamma = 0.7"
      ]
    },
    {
      "cell_type": "code",
      "source": [
        "vt1"
      ],
      "metadata": {
        "id": "e6KWWrbiXGVG",
        "outputId": "7ab92261-014a-4458-cf39-e64cfac6e739",
        "colab": {
          "base_uri": "https://localhost:8080/"
        }
      },
      "id": "e6KWWrbiXGVG",
      "execution_count": 163,
      "outputs": [
        {
          "output_type": "execute_result",
          "data": {
            "text/plain": [
              "[0, 0, 0, 0]"
            ]
          },
          "metadata": {},
          "execution_count": 163
        }
      ]
    },
    {
      "cell_type": "code",
      "execution_count": 164,
      "id": "091c076f-4dd5-416f-84c5-2628c288fa4e",
      "metadata": {
        "id": "091c076f-4dd5-416f-84c5-2628c288fa4e"
      },
      "outputs": [],
      "source": [
        "def adam(weight_bias_derivative, weight, learning_rate, previous_moment, previous_velocity, t, beta_1=0.8, beta_2=0.95, epsilon=10**-8):\n",
        "    gt = weight_bias_derivative\n",
        "    mt = beta_1 * previous_moment + (1 - beta_1) * gt\n",
        "    vt = beta_2 * previous_velocity + (1 - beta_2) * gt ** 2\n",
        "    mt_hat = mt/(1 - beta_1**t)\n",
        "    vt_hat = vt/(1 - beta_2**t)\n",
        "    ret = weight - (learning_rate*mt_hat)/(np.sqrt(vt_hat)+epsilon)\n",
        "    return ret, np.linalg.norm(mt), np.linalg.norm(vt), t+1"
      ]
    },
    {
      "cell_type": "code",
      "execution_count": 165,
      "id": "c2aa94e6-4745-4eb9-8110-fa0fbc845cff",
      "metadata": {
        "colab": {
          "base_uri": "https://localhost:8080/",
          "height": 233
        },
        "id": "c2aa94e6-4745-4eb9-8110-fa0fbc845cff",
        "outputId": "37e83ac9-f008-4894-bb2b-1fdbff5aed19"
      },
      "outputs": [
        {
          "output_type": "stream",
          "name": "stderr",
          "text": [
            "  0%|          | 0/20 [00:00<?, ?it/s]\n"
          ]
        },
        {
          "output_type": "error",
          "ename": "ValueError",
          "evalue": "operands could not be broadcast together with shapes (10,2) (5,10) (10,2) ",
          "traceback": [
            "\u001b[0;31m---------------------------------------------------------------------------\u001b[0m",
            "\u001b[0;31mValueError\u001b[0m                                Traceback (most recent call last)",
            "\u001b[0;32m<ipython-input-165-392ab28231ac>\u001b[0m in \u001b[0;36m<cell line: 0>\u001b[0;34m()\u001b[0m\n\u001b[1;32m      9\u001b[0m \u001b[0;34m\u001b[0m\u001b[0m\n\u001b[1;32m     10\u001b[0m             \u001b[0;32mfor\u001b[0m \u001b[0mi2\u001b[0m\u001b[0;34m,\u001b[0m \u001b[0mw\u001b[0m \u001b[0;32min\u001b[0m \u001b[0menumerate\u001b[0m\u001b[0;34m(\u001b[0m\u001b[0mweights\u001b[0m\u001b[0;34m)\u001b[0m\u001b[0;34m:\u001b[0m\u001b[0;34m\u001b[0m\u001b[0;34m\u001b[0m\u001b[0m\n\u001b[0;32m---> 11\u001b[0;31m                 \u001b[0mw\u001b[0m \u001b[0;34m-=\u001b[0m \u001b[0mlr\u001b[0m \u001b[0;34m*\u001b[0m \u001b[0mdL_dw\u001b[0m\u001b[0;34m[\u001b[0m\u001b[0mi\u001b[0m\u001b[0;34m]\u001b[0m\u001b[0;34m\u001b[0m\u001b[0;34m\u001b[0m\u001b[0m\n\u001b[0m\u001b[1;32m     12\u001b[0m                 \u001b[0;31m#vt1[i2] = gamma * vt1[i2] + lr * dL_dw[i2]\u001b[0m\u001b[0;34m\u001b[0m\u001b[0;34m\u001b[0m\u001b[0m\n\u001b[1;32m     13\u001b[0m                 \u001b[0;31m#weights[i2] -= vt1[i2]\u001b[0m\u001b[0;34m\u001b[0m\u001b[0;34m\u001b[0m\u001b[0m\n",
            "\u001b[0;31mValueError\u001b[0m: operands could not be broadcast together with shapes (10,2) (5,10) (10,2) "
          ]
        }
      ],
      "source": [
        "for i in tqdm(range(epochs)):\n",
        "    epochloss = 0\n",
        "    for j in range(batch_num):\n",
        "        for i, xi in enumerate(Xs[j]):\n",
        "            activations = feed_forward(xi, weights, biases)\n",
        "            epochloss += L(activations[-1], Ys[j,i])\n",
        "\n",
        "            dL_dw, dL_db = backprop(weights, biases, xi, Ys[j,i], activations)\n",
        "\n",
        "            for i2, w in enumerate(weights):\n",
        "                w -= lr * dL_dw[i]\n",
        "                #vt1[i2] = gamma * vt1[i2] + lr * dL_dw[i2]\n",
        "                #weights[i2] -= vt1[i2]\n",
        "                #w, pm, pv, t = adam(dL_dw[i], w, lr, pm, pv, t)\n",
        "            for i2, b in enumerate(biases):\n",
        "                b -= lr * dL_db[i2]\n",
        "\n",
        "    loss.append(epochloss / n)"
      ]
    },
    {
      "cell_type": "code",
      "source": [
        "loss"
      ],
      "metadata": {
        "id": "QdTPgUZ1F5Q0"
      },
      "id": "QdTPgUZ1F5Q0",
      "execution_count": null,
      "outputs": []
    },
    {
      "cell_type": "code",
      "execution_count": null,
      "id": "f4d01da8-89aa-4032-8f70-7394e305b643",
      "metadata": {
        "id": "f4d01da8-89aa-4032-8f70-7394e305b643"
      },
      "outputs": [],
      "source": [
        "xcoord = np.array([n for n in range(epochs)]).reshape(20, 1)\n",
        "ycoord = np.array(loss).reshape(20, 1)\n",
        "plt.plot(xcoord, ycoord)\n",
        "#plt.xscale('log')\n",
        "plt.yscale('log')\n",
        "plt.savefig('loss1.png')"
      ]
    },
    {
      "cell_type": "code",
      "execution_count": null,
      "id": "9b648e81-636c-42dd-8fab-d414ce395156",
      "metadata": {
        "id": "9b648e81-636c-42dd-8fab-d414ce395156"
      },
      "outputs": [],
      "source": [
        "def evaluate_visually(x, w, b):\n",
        "    rb = []\n",
        "    for xi in x:\n",
        "        predictions = feed_forward(xi, w, b)\n",
        "        if predictions[-1] <= 0.5: rb.append('red')\n",
        "        else: rb.append('blue')\n",
        "    return rb"
      ]
    },
    {
      "cell_type": "code",
      "execution_count": null,
      "id": "56d35340-2aa8-4ad7-afed-84088dc295ed",
      "metadata": {
        "id": "56d35340-2aa8-4ad7-afed-84088dc295ed"
      },
      "outputs": [],
      "source": [
        "rb = evaluate_visually(X.reshape(n, 2, 1), weights, biases)"
      ]
    },
    {
      "cell_type": "code",
      "execution_count": null,
      "id": "26f52ef3-5d7c-441b-8678-f6384f872985",
      "metadata": {
        "id": "26f52ef3-5d7c-441b-8678-f6384f872985"
      },
      "outputs": [],
      "source": [
        "plt.scatter(Xs[:,:,0,:], Xs[:,:,1,:], c=rb)\n",
        "plt.savefig('prediction1.png')"
      ]
    },
    {
      "cell_type": "code",
      "execution_count": null,
      "id": "66056d7a-7de7-4ed5-acc0-60e971bd6ce9",
      "metadata": {
        "id": "66056d7a-7de7-4ed5-acc0-60e971bd6ce9"
      },
      "outputs": [],
      "source": [
        "def evaluate_errors(x, w, b, y):\n",
        "    rb = []\n",
        "    for i, xi in enumerate(x):\n",
        "        p = 0\n",
        "        predictions = feed_forward(xi, w, b)\n",
        "        if predictions[-1] <= 0.5: p = 0\n",
        "        else: p = 1\n",
        "        if p == Y[i, 0]:\n",
        "            rb.append('gray')\n",
        "        else: rb.append('red')\n",
        "    return rb"
      ]
    },
    {
      "cell_type": "code",
      "execution_count": null,
      "id": "c520a82c-8c6d-43c9-be51-315ce9ac881b",
      "metadata": {
        "id": "c520a82c-8c6d-43c9-be51-315ce9ac881b"
      },
      "outputs": [],
      "source": [
        "br = evaluate_errors(X, weights, biases, Y)"
      ]
    },
    {
      "cell_type": "code",
      "execution_count": null,
      "id": "93b94291-9877-48a9-89c6-43b8c0f5cd04",
      "metadata": {
        "id": "93b94291-9877-48a9-89c6-43b8c0f5cd04"
      },
      "outputs": [],
      "source": [
        "plt.scatter(X[:,0,:], X[:,1,:], c=br)"
      ]
    },
    {
      "cell_type": "code",
      "execution_count": null,
      "id": "da2f847f-ccbb-4235-b7b2-dad50c2a77d9",
      "metadata": {
        "id": "da2f847f-ccbb-4235-b7b2-dad50c2a77d9"
      },
      "outputs": [],
      "source": [
        "inc = 0\n",
        "for c in br:\n",
        "    if c == 'red': inc += 1\n",
        "print(f'Training Accuracy {inc} / {n} : {((n-inc)/n)*100:.2f}%')"
      ]
    },
    {
      "cell_type": "code",
      "execution_count": null,
      "id": "808ef9aa-5658-4302-9acb-38ba409b51ba",
      "metadata": {
        "id": "808ef9aa-5658-4302-9acb-38ba409b51ba"
      },
      "outputs": [],
      "source": []
    }
  ],
  "metadata": {
    "kernelspec": {
      "display_name": "Python 3 (ipykernel)",
      "language": "python",
      "name": "python3"
    },
    "language_info": {
      "codemirror_mode": {
        "name": "ipython",
        "version": 3
      },
      "file_extension": ".py",
      "mimetype": "text/x-python",
      "name": "python",
      "nbconvert_exporter": "python",
      "pygments_lexer": "ipython3",
      "version": "3.12.5"
    },
    "colab": {
      "provenance": []
    }
  },
  "nbformat": 4,
  "nbformat_minor": 5
}