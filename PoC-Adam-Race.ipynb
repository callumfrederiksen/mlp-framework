{
  "cells": [
    {
      "cell_type": "code",
      "execution_count": 37,
      "id": "75a58c97-79e9-4165-8ace-f40dc24571a9",
      "metadata": {
        "id": "75a58c97-79e9-4165-8ace-f40dc24571a9"
      },
      "outputs": [],
      "source": [
        "import sklearn\n",
        "import numpy as np\n",
        "import matplotlib.pyplot as plt\n",
        "from tqdm import tqdm\n",
        "from sklearn.datasets import make_moons\n",
        "from sklearn.utils import shuffle"
      ]
    },
    {
      "cell_type": "code",
      "execution_count": 38,
      "id": "02469c78-8e8c-47cc-b910-f5a6934bf3b5",
      "metadata": {
        "id": "02469c78-8e8c-47cc-b910-f5a6934bf3b5"
      },
      "outputs": [],
      "source": [
        "n = 10016\n",
        "batch_size = 32"
      ]
    },
    {
      "cell_type": "code",
      "execution_count": 39,
      "id": "6aa0fb91-19f9-487d-afb1-96a5fc79d372",
      "metadata": {
        "id": "6aa0fb91-19f9-487d-afb1-96a5fc79d372"
      },
      "outputs": [],
      "source": [
        "X, Y = make_moons(n_samples=n, noise=0.1)\n",
        "X, Y = shuffle(X, Y, random_state=72)"
      ]
    },
    {
      "cell_type": "code",
      "execution_count": 40,
      "id": "d7c77073-eb5c-4afd-af0f-16b4b76338d6",
      "metadata": {
        "id": "d7c77073-eb5c-4afd-af0f-16b4b76338d6"
      },
      "outputs": [],
      "source": [
        "Xs = []\n",
        "Ys = []\n",
        "batch_num = int(np.ceil(len(X) / batch_size))"
      ]
    },
    {
      "cell_type": "code",
      "execution_count": 41,
      "id": "a0f8e6c3-f069-4ba7-8387-23a15c4f7749",
      "metadata": {
        "id": "a0f8e6c3-f069-4ba7-8387-23a15c4f7749"
      },
      "outputs": [],
      "source": [
        "for i in range(batch_num):\n",
        "    start = i * batch_size\n",
        "    end = start + batch_size\n",
        "    Xs.append(X[start:end])\n",
        "    Ys.append(Y[start:end])"
      ]
    },
    {
      "cell_type": "code",
      "execution_count": 42,
      "id": "acf84648-11bd-42c8-aa36-2fbda6de26f8",
      "metadata": {
        "id": "acf84648-11bd-42c8-aa36-2fbda6de26f8"
      },
      "outputs": [],
      "source": [
        "Xs = np.array(Xs).reshape(batch_num, batch_size, 2, 1)\n",
        "Ys = np.array(Ys).reshape(batch_num, batch_size, 1, 1)\n",
        "X = X.reshape(n, 2, 1)\n",
        "Y = Y.reshape(n, 1, 1)"
      ]
    },
    {
      "cell_type": "code",
      "execution_count": 43,
      "id": "4a5652f5-d8ac-4d0a-8f09-06dbb10e8400",
      "metadata": {
        "id": "4a5652f5-d8ac-4d0a-8f09-06dbb10e8400"
      },
      "outputs": [],
      "source": [
        "size = [2, 10, 5, 1]"
      ]
    },
    {
      "cell_type": "code",
      "execution_count": 44,
      "id": "60650e61-bcef-4015-aef8-6eed1a938511",
      "metadata": {
        "id": "60650e61-bcef-4015-aef8-6eed1a938511"
      },
      "outputs": [],
      "source": [
        "weights = [0]\n",
        "biases = [0]\n",
        "for i in range(0, len(size) - 1):\n",
        "    weights.append(np.random.rand(size[i + 1], size[i]))\n",
        "    biases.append(np.random.rand(size[i + 1], 1))"
      ]
    },
    {
      "cell_type": "code",
      "execution_count": 45,
      "id": "660bfc41-ba1f-4fe1-b45d-3301ef9cea48",
      "metadata": {
        "scrolled": true,
        "id": "660bfc41-ba1f-4fe1-b45d-3301ef9cea48",
        "outputId": "d3060ce2-b699-4c8c-a6bd-49fd067929f4",
        "colab": {
          "base_uri": "https://localhost:8080/"
        }
      },
      "outputs": [
        {
          "output_type": "execute_result",
          "data": {
            "text/plain": [
              "[0,\n",
              " array([[0.23543192, 0.0907505 ],\n",
              "        [0.59985041, 0.3746856 ],\n",
              "        [0.37523629, 0.81557892],\n",
              "        [0.32340697, 0.19323125],\n",
              "        [0.88239204, 0.77950794],\n",
              "        [0.47358803, 0.72488961],\n",
              "        [0.89902387, 0.14642603],\n",
              "        [0.51645786, 0.28005278],\n",
              "        [0.2452862 , 0.74949505],\n",
              "        [0.52342878, 0.34462067]]),\n",
              " array([[0.34750894, 0.82765789, 0.47885232, 0.56495956, 0.7522467 ,\n",
              "         0.83401644, 0.05549245, 0.71942434, 0.56766732, 0.28665618],\n",
              "        [0.23232706, 0.01965016, 0.2827596 , 0.74057715, 0.46443267,\n",
              "         0.92862332, 0.21245027, 0.19058536, 0.74365129, 0.4014949 ],\n",
              "        [0.14439432, 0.95143555, 0.23891113, 0.89149453, 0.45011508,\n",
              "         0.80469315, 0.37479321, 0.15713192, 0.75339529, 0.50134132],\n",
              "        [0.52796736, 0.06266141, 0.82865789, 0.93288694, 0.69551493,\n",
              "         0.26424401, 0.93345141, 0.68650032, 0.8335013 , 0.29376293],\n",
              "        [0.42498409, 0.21966964, 0.77017451, 0.4591174 , 0.99285364,\n",
              "         0.08577411, 0.33736255, 0.26304626, 0.7875961 , 0.37300099]]),\n",
              " array([[0.01265165, 0.07061615, 0.21766729, 0.99494897, 0.36094554]])]"
            ]
          },
          "metadata": {},
          "execution_count": 45
        }
      ],
      "source": [
        "weights"
      ]
    },
    {
      "cell_type": "code",
      "execution_count": 46,
      "id": "96724f97-0ff4-40ef-a51d-a5ba8ca08b42",
      "metadata": {
        "id": "96724f97-0ff4-40ef-a51d-a5ba8ca08b42"
      },
      "outputs": [],
      "source": [
        "def sigmoid(x):\n",
        "    return 1 / (1 + np.exp(-x))"
      ]
    },
    {
      "cell_type": "code",
      "execution_count": 47,
      "id": "5c51992c-9b7f-4133-8cae-5b3d37c6f5d6",
      "metadata": {
        "id": "5c51992c-9b7f-4133-8cae-5b3d37c6f5d6"
      },
      "outputs": [],
      "source": [
        "def L(y_hat, y):\n",
        "    return 0.5 * (y_hat - y) ** 2"
      ]
    },
    {
      "cell_type": "code",
      "execution_count": 48,
      "id": "d2ce48b8-d9bb-4250-b881-285db0131a09",
      "metadata": {
        "id": "d2ce48b8-d9bb-4250-b881-285db0131a09"
      },
      "outputs": [],
      "source": [
        "def feed_forward(xi, weights, biases):\n",
        "    activations = [xi]\n",
        "    z1 = weights[1] @ xi + biases[1]\n",
        "    a1 = sigmoid(z1)\n",
        "    activations.append(a1)\n",
        "    for i in range(2, len(weights)):\n",
        "        zn = weights[i] @ activations[-1] + biases[i]\n",
        "        an = sigmoid(zn)\n",
        "        activations.append(an)\n",
        "    return activations"
      ]
    },
    {
      "cell_type": "code",
      "execution_count": 49,
      "id": "0fc82b44-8373-49a6-a433-abb752f4c20b",
      "metadata": {
        "id": "0fc82b44-8373-49a6-a433-abb752f4c20b"
      },
      "outputs": [],
      "source": [
        "def sigmoid_derivative(y):\n",
        "    return y * ( 1 - y )"
      ]
    },
    {
      "cell_type": "code",
      "execution_count": 50,
      "id": "533de124-4751-46b2-84ca-99d3ac888f1a",
      "metadata": {
        "id": "533de124-4751-46b2-84ca-99d3ac888f1a"
      },
      "outputs": [],
      "source": [
        "def backprop(weights, biases, xi, y, activations):\n",
        "    deltas = [0] * len(activations)\n",
        "    dL_dwK = [0] * len(activations)\n",
        "    dL_dbK = [0] * len(activations)\n",
        "\n",
        "    deltas[-1] = ( activations[-1] - y ) * sigmoid_derivative(activations[-1])\n",
        "    dL_dwK[-1] = deltas[-1] @ activations[-1].T\n",
        "    dL_dbK[-1] = deltas[-1]\n",
        "\n",
        "    for i in range(len(deltas)-2, 0, -1):\n",
        "        deltas[i] = ( weights[i+1].T @ deltas[ i + 1 ] ) * sigmoid_derivative(activations[i])\n",
        "        dL_dwK[i] = deltas[i] @ activations[ i - 1 ].T\n",
        "        dL_dbK[i] = deltas[i]\n",
        "\n",
        "    return dL_dwK, dL_dbK"
      ]
    },
    {
      "cell_type": "code",
      "execution_count": 51,
      "id": "754edf66-0bf2-419d-9c02-1b1edce76f5b",
      "metadata": {
        "scrolled": true,
        "id": "754edf66-0bf2-419d-9c02-1b1edce76f5b",
        "outputId": "b581e631-ecfd-4805-c64c-291d203695b5",
        "colab": {
          "base_uri": "https://localhost:8080/"
        }
      },
      "outputs": [
        {
          "output_type": "stream",
          "name": "stdout",
          "text": [
            "[array([[1.79443093e+00],\n",
            "       [2.56743409e-04]]), array([[0.74441489],\n",
            "       [0.81242069],\n",
            "       [0.77690855],\n",
            "       [0.72599217],\n",
            "       [0.91418219],\n",
            "       [0.85822581],\n",
            "       [0.83797493],\n",
            "       [0.78629086],\n",
            "       [0.70172881],\n",
            "       [0.80091035]]), array([[0.99034566],\n",
            "       [0.97967891],\n",
            "       [0.99360445],\n",
            "       [0.99677792],\n",
            "       [0.97767298]]), array([[0.85209352]])]\n",
            "(10, 2)\n",
            "(5, 10)\n",
            "(1, 1)\n"
          ]
        }
      ],
      "source": [
        "act = feed_forward(Xs[0][2], weights, biases)\n",
        "print(act)\n",
        "bc = backprop(weights, biases, Xs[0][2], Ys[0][2], act)[0]\n",
        "for w in bc:\n",
        "    if type(w) is not int: print(w.shape)"
      ]
    },
    {
      "cell_type": "code",
      "execution_count": 52,
      "id": "57c258fe-634f-4306-98a5-45c3be894985",
      "metadata": {
        "id": "57c258fe-634f-4306-98a5-45c3be894985"
      },
      "outputs": [],
      "source": [
        "epochs = 20\n",
        "lr = 0.1\n",
        "loss = []\n",
        "pm, pv = 0, 0"
      ]
    },
    {
      "cell_type": "code",
      "execution_count": 53,
      "id": "091c076f-4dd5-416f-84c5-2628c288fa4e",
      "metadata": {
        "id": "091c076f-4dd5-416f-84c5-2628c288fa4e"
      },
      "outputs": [],
      "source": [
        "def adam(weight_bias_derivative, weight, learning_rate, previous_moment, previous_velocity, beta_1=0.9, beta_2=0.99, elipson=10**-8):\n",
        "    gt = weight_bias_derivative\n",
        "    mt = beta_1 * previous_moment + (1 - beta_1) * gt\n",
        "    vt = beta_2 * previous_velocity + (1 - beta_2) * gt ** 2\n",
        "    mt_hat = mt/(1 - beta_1)\n",
        "    vt_hat = vt/(1 - beta_2)\n",
        "    ret = weight - (learning_rate*mt_hat)/(np.sqrt(vt_hat)+elipson)\n",
        "    return ret, previous_moment, previous_velocity"
      ]
    },
    {
      "cell_type": "code",
      "execution_count": 55,
      "id": "c2aa94e6-4745-4eb9-8110-fa0fbc845cff",
      "metadata": {
        "id": "c2aa94e6-4745-4eb9-8110-fa0fbc845cff",
        "outputId": "a69f1a96-5e5b-4ef9-9b79-18daf543a509",
        "colab": {
          "base_uri": "https://localhost:8080/"
        }
      },
      "outputs": [
        {
          "output_type": "stream",
          "name": "stderr",
          "text": [
            "100%|██████████| 20/20 [00:22<00:00,  1.14s/it]\n"
          ]
        }
      ],
      "source": [
        "for i in tqdm(range(epochs)):\n",
        "    epochloss = 0\n",
        "    for j in range(batch_num):\n",
        "        for i, xi in enumerate(Xs[j]):\n",
        "            activations = feed_forward(xi, weights, biases)\n",
        "            epochloss += L(activations[-1], Ys[j,i])\n",
        "\n",
        "            dL_dw, dL_db = backprop(weights, biases, xi, Ys[j,i], activations)\n",
        "\n",
        "            for i, w in enumerate(weights):\n",
        "                #w -= lr * dL_dw[i]\n",
        "                w, pm, pv = adam(dL_dw[i], w, lr, pm, pv)\n",
        "            for i, b in enumerate(biases):\n",
        "                b -= lr * dL_db[i]\n",
        "\n",
        "    loss.append(epochloss / n)"
      ]
    },
    {
      "cell_type": "code",
      "execution_count": 56,
      "id": "a43b78b7-cd4a-482b-951a-a478d8f22d0e",
      "metadata": {
        "scrolled": true,
        "id": "a43b78b7-cd4a-482b-951a-a478d8f22d0e",
        "outputId": "8b7f1449-c628-4e6b-f917-256e89eec61c",
        "colab": {
          "base_uri": "https://localhost:8080/"
        }
      },
      "outputs": [
        {
          "output_type": "execute_result",
          "data": {
            "text/plain": [
              "[0,\n",
              " array([[ 0.30600367, -0.9482096 ],\n",
              "        [ 0.44392259,  0.81117334],\n",
              "        [ 0.25445359,  1.11402017],\n",
              "        [-0.35072849,  1.52031672],\n",
              "        [ 0.95676409,  0.41034747],\n",
              "        [-0.506812  ,  2.89574894],\n",
              "        [ 0.46361538, -2.36697893],\n",
              "        [ 0.35020431, -0.7120273 ],\n",
              "        [-0.45671079,  2.35779593],\n",
              "        [ 0.42243494,  0.33632918]]),\n",
              " array([[-0.96569262, -0.71303016, -0.40206978, -0.06505867, -0.58027594,\n",
              "          0.26885672, -1.60068987, -0.57722962,  0.30088987, -1.07217712],\n",
              "        [-0.94056177, -1.42906415, -0.5142064 ,  0.00353937, -0.78895706,\n",
              "          0.25189606, -1.42458403, -1.01817935,  0.53632612, -0.84028802],\n",
              "        [ 0.34813836,  1.04947612,  0.27616979,  0.77752012,  0.60767236,\n",
              "          0.611797  ,  0.6251372 ,  0.33655338,  0.61592388,  0.63944179],\n",
              "        [ 1.05856067, -0.31439998, -0.4170735 , -0.80739741,  0.37911105,\n",
              "         -2.34518761,  2.68427259,  1.05390769, -1.71571158,  0.09578248],\n",
              "        [ 0.86097901, -0.35369612, -0.47526786, -1.23767238,  0.34467656,\n",
              "         -2.44063052,  1.88097693,  0.52161611, -1.5296968 ,  0.02800163]]),\n",
              " array([[2.71773745, 2.77570195, 2.92275309, 3.70003477, 3.06603135]])]"
            ]
          },
          "metadata": {},
          "execution_count": 56
        }
      ],
      "source": [
        "weights"
      ]
    },
    {
      "cell_type": "code",
      "execution_count": 57,
      "id": "f4d01da8-89aa-4032-8f70-7394e305b643",
      "metadata": {
        "id": "f4d01da8-89aa-4032-8f70-7394e305b643",
        "outputId": "41f88d1f-3076-4ddd-c5d6-950837768e24",
        "colab": {
          "base_uri": "https://localhost:8080/",
          "height": 216
        }
      },
      "outputs": [
        {
          "output_type": "error",
          "ename": "ValueError",
          "evalue": "cannot reshape array of size 28 into shape (20,1)",
          "traceback": [
            "\u001b[0;31m---------------------------------------------------------------------------\u001b[0m",
            "\u001b[0;31mValueError\u001b[0m                                Traceback (most recent call last)",
            "\u001b[0;32m<ipython-input-57-15b3a47dcba8>\u001b[0m in \u001b[0;36m<cell line: 0>\u001b[0;34m()\u001b[0m\n\u001b[1;32m      1\u001b[0m \u001b[0mxcoord\u001b[0m \u001b[0;34m=\u001b[0m \u001b[0mnp\u001b[0m\u001b[0;34m.\u001b[0m\u001b[0marray\u001b[0m\u001b[0;34m(\u001b[0m\u001b[0;34m[\u001b[0m\u001b[0mn\u001b[0m \u001b[0;32mfor\u001b[0m \u001b[0mn\u001b[0m \u001b[0;32min\u001b[0m \u001b[0mrange\u001b[0m\u001b[0;34m(\u001b[0m\u001b[0mepochs\u001b[0m\u001b[0;34m)\u001b[0m\u001b[0;34m]\u001b[0m\u001b[0;34m)\u001b[0m\u001b[0;34m.\u001b[0m\u001b[0mreshape\u001b[0m\u001b[0;34m(\u001b[0m\u001b[0mepochs\u001b[0m\u001b[0;34m,\u001b[0m \u001b[0;36m1\u001b[0m\u001b[0;34m)\u001b[0m\u001b[0;34m\u001b[0m\u001b[0;34m\u001b[0m\u001b[0m\n\u001b[0;32m----> 2\u001b[0;31m \u001b[0mycoord\u001b[0m \u001b[0;34m=\u001b[0m \u001b[0mnp\u001b[0m\u001b[0;34m.\u001b[0m\u001b[0marray\u001b[0m\u001b[0;34m(\u001b[0m\u001b[0mloss\u001b[0m\u001b[0;34m)\u001b[0m\u001b[0;34m.\u001b[0m\u001b[0mreshape\u001b[0m\u001b[0;34m(\u001b[0m\u001b[0mepochs\u001b[0m\u001b[0;34m,\u001b[0m \u001b[0;36m1\u001b[0m\u001b[0;34m)\u001b[0m\u001b[0;34m\u001b[0m\u001b[0;34m\u001b[0m\u001b[0m\n\u001b[0m\u001b[1;32m      3\u001b[0m \u001b[0mplt\u001b[0m\u001b[0;34m.\u001b[0m\u001b[0mplot\u001b[0m\u001b[0;34m(\u001b[0m\u001b[0mxcoord\u001b[0m\u001b[0;34m,\u001b[0m \u001b[0mycoord\u001b[0m\u001b[0;34m)\u001b[0m\u001b[0;34m\u001b[0m\u001b[0;34m\u001b[0m\u001b[0m\n\u001b[1;32m      4\u001b[0m \u001b[0;31m#plt.xscale('log')\u001b[0m\u001b[0;34m\u001b[0m\u001b[0;34m\u001b[0m\u001b[0m\n\u001b[1;32m      5\u001b[0m \u001b[0;31m#plt.yscale('log')\u001b[0m\u001b[0;34m\u001b[0m\u001b[0;34m\u001b[0m\u001b[0m\n",
            "\u001b[0;31mValueError\u001b[0m: cannot reshape array of size 28 into shape (20,1)"
          ]
        }
      ],
      "source": [
        "xcoord = np.array([n for n in range(epochs)]).reshape(epochs, 1)\n",
        "ycoord = np.array(loss).reshape(epochs, 1)\n",
        "plt.plot(xcoord, ycoord)\n",
        "#plt.xscale('log')\n",
        "#plt.yscale('log')\n",
        "plt.savefig('loss1.png')"
      ]
    },
    {
      "cell_type": "code",
      "execution_count": null,
      "id": "9b648e81-636c-42dd-8fab-d414ce395156",
      "metadata": {
        "id": "9b648e81-636c-42dd-8fab-d414ce395156"
      },
      "outputs": [],
      "source": [
        "def evaluate_visually(x, w, b):\n",
        "    rb = []\n",
        "    for xi in x:\n",
        "        predictions = feed_forward(xi, w, b)\n",
        "        if predictions[-1] <= 0.5: rb.append('red')\n",
        "        else: rb.append('blue')\n",
        "    return rb"
      ]
    },
    {
      "cell_type": "code",
      "execution_count": null,
      "id": "56d35340-2aa8-4ad7-afed-84088dc295ed",
      "metadata": {
        "id": "56d35340-2aa8-4ad7-afed-84088dc295ed"
      },
      "outputs": [],
      "source": [
        "rb = evaluate_visually(X.reshape(n, 2, 1), weights, biases)"
      ]
    },
    {
      "cell_type": "code",
      "execution_count": null,
      "id": "26f52ef3-5d7c-441b-8678-f6384f872985",
      "metadata": {
        "id": "26f52ef3-5d7c-441b-8678-f6384f872985"
      },
      "outputs": [],
      "source": [
        "plt.scatter(Xs[:,:,0,:], Xs[:,:,1,:], c=rb)\n",
        "plt.savefig('prediction1.png')"
      ]
    },
    {
      "cell_type": "code",
      "execution_count": 24,
      "id": "66056d7a-7de7-4ed5-acc0-60e971bd6ce9",
      "metadata": {
        "id": "66056d7a-7de7-4ed5-acc0-60e971bd6ce9"
      },
      "outputs": [],
      "source": [
        "def evaluate_errors(x, w, b, y):\n",
        "    rb = []\n",
        "    for i, xi in enumerate(x):\n",
        "        p = 0\n",
        "        predictions = feed_forward(xi, w, b)\n",
        "        if predictions[-1] <= 0.5: p = 0\n",
        "        else: p = 1\n",
        "        if p == Y[i, 0]:\n",
        "            rb.append('gray')\n",
        "        else: rb.append('red')\n",
        "    return rb"
      ]
    },
    {
      "cell_type": "code",
      "execution_count": 25,
      "id": "c520a82c-8c6d-43c9-be51-315ce9ac881b",
      "metadata": {
        "id": "c520a82c-8c6d-43c9-be51-315ce9ac881b"
      },
      "outputs": [],
      "source": [
        "br = evaluate_errors(X, weights, biases, Y)"
      ]
    },
    {
      "cell_type": "code",
      "execution_count": 26,
      "id": "93b94291-9877-48a9-89c6-43b8c0f5cd04",
      "metadata": {
        "id": "93b94291-9877-48a9-89c6-43b8c0f5cd04",
        "outputId": "3bd83c10-9748-4e03-c104-8406ba0f7da1",
        "colab": {
          "base_uri": "https://localhost:8080/",
          "height": 453
        }
      },
      "outputs": [
        {
          "output_type": "execute_result",
          "data": {
            "text/plain": [
              "<matplotlib.collections.PathCollection at 0x7a0acf83fd50>"
            ]
          },
          "metadata": {},
          "execution_count": 26
        },
        {
          "output_type": "display_data",
          "data": {
            "text/plain": [
              "<Figure size 640x480 with 1 Axes>"
            ],
            "image/png": "[encoded data removed]"
          },
          "metadata": {}
        }
      ],
      "source": [
        "plt.scatter(X[:,0,:], X[:,1,:], c=br)"
      ]
    },
    {
      "cell_type": "code",
      "execution_count": 27,
      "id": "da2f847f-ccbb-4235-b7b2-dad50c2a77d9",
      "metadata": {
        "id": "da2f847f-ccbb-4235-b7b2-dad50c2a77d9",
        "outputId": "46e2d2e0-dfbf-46d1-ff07-ab44bf6a6029",
        "colab": {
          "base_uri": "https://localhost:8080/"
        }
      },
      "outputs": [
        {
          "output_type": "stream",
          "name": "stdout",
          "text": [
            "Training Accuracy 11 / 10016 : 99.89%\n"
          ]
        }
      ],
      "source": [
        "inc = 0\n",
        "for c in br:\n",
        "    if c == 'red': inc += 1\n",
        "print(f'Training Accuracy {inc} / {n} : {((n-inc)/n)*100:.2f}%')"
      ]
    },
    {
      "cell_type": "code",
      "execution_count": 27,
      "id": "808ef9aa-5658-4302-9acb-38ba409b51ba",
      "metadata": {
        "id": "808ef9aa-5658-4302-9acb-38ba409b51ba"
      },
      "outputs": [],
      "source": []
    }
  ],
  "metadata": {
    "kernelspec": {
      "display_name": "Python 3 (ipykernel)",
      "language": "python",
      "name": "python3"
    },
    "language_info": {
      "codemirror_mode": {
        "name": "ipython",
        "version": 3
      },
      "file_extension": ".py",
      "mimetype": "text/x-python",
      "name": "python",
      "nbconvert_exporter": "python",
      "pygments_lexer": "ipython3",
      "version": "3.12.5"
    },
    "colab": {
      "provenance": []
    }
  },
  "nbformat": 4,
  "nbformat_minor": 5
}