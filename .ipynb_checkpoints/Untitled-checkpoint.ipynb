{
 "cells": [
  {
   "cell_type": "code",
   "execution_count": 721,
   "id": "75a58c97-79e9-4165-8ace-f40dc24571a9",
   "metadata": {},
   "outputs": [],
   "source": [
    "import numpy as np\n",
    "import matplotlib.pyplot as plt\n",
    "from tqdm import tqdm"
   ]
  },
  {
   "cell_type": "code",
   "execution_count": 723,
   "id": "6aa0fb91-19f9-487d-afb1-96a5fc79d372",
   "metadata": {},
   "outputs": [],
   "source": [
    "X = np.array([\n",
    "    [0, 0],\n",
    "    [0, 1],\n",
    "    [1, 0],\n",
    "    [1, 1]\n",
    "]).reshape(4, 2, 1)\n",
    "\n",
    "Y = np.array([\n",
    "    0,\n",
    "    1,\n",
    "    1,\n",
    "    0\n",
    "])"
   ]
  },
  {
   "cell_type": "code",
   "execution_count": 725,
   "id": "60650e61-bcef-4015-aef8-6eed1a938511",
   "metadata": {},
   "outputs": [],
   "source": [
    "w1 = np.random.rand(4, 2)\n",
    "b1 = np.random.rand(4, 1)\n",
    "w2 = np.random.rand(3, 4)\n",
    "b2 = np.random.rand(3, 1)\n",
    "w3 = np.random.rand(1, 3)\n",
    "b3 = np.random.rand(1, 1)\n",
    "weights = [0, w1, w2, w3]\n",
    "biases = [0, b1, b2, b3]"
   ]
  },
  {
   "cell_type": "code",
   "execution_count": 727,
   "id": "96724f97-0ff4-40ef-a51d-a5ba8ca08b42",
   "metadata": {},
   "outputs": [],
   "source": [
    "def sigmoid(x):\n",
    "    return 1 / (1 + np.exp(-x))"
   ]
  },
  {
   "cell_type": "code",
   "execution_count": 729,
   "id": "5c51992c-9b7f-4133-8cae-5b3d37c6f5d6",
   "metadata": {},
   "outputs": [],
   "source": [
    "def L(y_hat, y):\n",
    "    return 0.5 * (y_hat - y) ** 2"
   ]
  },
  {
   "cell_type": "code",
   "execution_count": 731,
   "id": "d2ce48b8-d9bb-4250-b881-285db0131a09",
   "metadata": {},
   "outputs": [],
   "source": [
    "def feed_forward(xi, weights, biases):\n",
    "    z1 = weights[1] @ xi + biases[1]\n",
    "    a1 = sigmoid(z1)\n",
    "    z2 = weights[2] @ a1 + biases[2]\n",
    "    a2 = sigmoid(z2)\n",
    "    z3 = weights[3] @ a2 + biases[3]\n",
    "    y_hat = sigmoid(z3)\n",
    "    activations = [0, a1, a2, y_hat]\n",
    "    return activations"
   ]
  },
  {
   "cell_type": "code",
   "execution_count": 733,
   "id": "50fd525f-5d06-410c-97e3-13a4f31ed5d4",
   "metadata": {},
   "outputs": [
    {
     "data": {
      "text/plain": [
       "[0,\n",
       " array([[0.57354086],\n",
       "        [0.53902074],\n",
       "        [0.58013761],\n",
       "        [0.57756765]]),\n",
       " array([[0.9017974 ],\n",
       "        [0.86878757],\n",
       "        [0.91362376]]),\n",
       " array([[0.88656938]])]"
      ]
     },
     "execution_count": 733,
     "metadata": {},
     "output_type": "execute_result"
    }
   ],
   "source": [
    "feed_forward(X[0], weights, biases)"
   ]
  },
  {
   "cell_type": "code",
   "execution_count": 735,
   "id": "533de124-4751-46b2-84ca-99d3ac888f1a",
   "metadata": {},
   "outputs": [],
   "source": [
    "def backprop(weights, biases, xi, y, y_hat, activations):\n",
    "    delta_3 = ( y_hat - y ) * ( y_hat * ( 1 - y_hat ) )\n",
    "    delta_2 = ( weights[3].T @ delta_3 ) * ( activations[2] * ( 1 - activations[2] ) )\n",
    "    delta_1 = ( weights[2].T @ delta_2 ) * ( activations[1] * ( 1 - activations[1] ) )\n",
    "    dL_dwK = [0, delta_1 @ xi.T, delta_2 @ activations[1].T, delta_3 @ activations[2].T]\n",
    "    dL_dbK = [0, delta_1, delta_2, delta_3]\n",
    "    return dL_dwK, dL_dbK"
   ]
  },
  {
   "cell_type": "code",
   "execution_count": 737,
   "id": "57c258fe-634f-4306-98a5-45c3be894985",
   "metadata": {},
   "outputs": [],
   "source": [
    "epochs = 1000000\n",
    "lr = 1\n",
    "loss = []"
   ]
  },
  {
   "cell_type": "code",
   "execution_count": 739,
   "id": "cfe67e08-fa0f-4824-9aa8-756a0fa5552f",
   "metadata": {},
   "outputs": [
    {
     "data": {
      "text/plain": [
       "[0,\n",
       " array([[0.29631261],\n",
       "        [0.156401  ],\n",
       "        [0.3233383 ],\n",
       "        [0.31279624]]),\n",
       " array([[0.35956295],\n",
       "        [0.45282103],\n",
       "        [0.91379613]]),\n",
       " array([[0.56817883]])]"
      ]
     },
     "execution_count": 739,
     "metadata": {},
     "output_type": "execute_result"
    }
   ],
   "source": [
    "biases"
   ]
  },
  {
   "cell_type": "code",
   "execution_count": 741,
   "id": "c2aa94e6-4745-4eb9-8110-fa0fbc845cff",
   "metadata": {},
   "outputs": [
    {
     "name": "stderr",
     "output_type": "stream",
     "text": [
      "100%|███████████████████████████████| 1000000/1000000 [02:07<00:00, 7867.64it/s]\n"
     ]
    }
   ],
   "source": [
    "for i in tqdm(range(epochs)):\n",
    "    epochloss = 0\n",
    "    for i, xi in enumerate(X):\n",
    "        activations = feed_forward(xi, weights, biases)\n",
    "        epochloss += L(activations[-1], Y[i])\n",
    "\n",
    "        dL_dw, dL_db = backprop(weights, biases, xi, Y[i], activations[-1], activations)\n",
    "        \n",
    "        for i, w in enumerate(weights):\n",
    "            w -= lr * dL_dw[i]\n",
    "        for i, b in enumerate(biases):\n",
    "            b -= lr * dL_db[i]\n",
    "        \n",
    "    loss.append(epochloss / len(X))"
   ]
  },
  {
   "cell_type": "code",
   "execution_count": 742,
   "id": "29c2d8f1-cf98-4f64-9219-5a8bf0d4abb8",
   "metadata": {},
   "outputs": [
    {
     "data": {
      "text/plain": [
       "[0,\n",
       " array([[5.50076788, 5.40750283],\n",
       "        [5.08205795, 5.00068887],\n",
       "        [2.92116341, 2.82488573],\n",
       "        [2.8748242 , 2.93876828]]),\n",
       " array([[-1.14353973, -1.48429479,  1.16099029,  1.09396282],\n",
       "        [-5.4008183 , -4.19993826,  5.86962276,  6.09002424],\n",
       "        [-2.19152037, -2.26561776,  2.23492126,  1.92153927]]),\n",
       " array([[ -1.8445568 , -13.17332115,  -4.01238503]])]"
      ]
     },
     "execution_count": 742,
     "metadata": {},
     "output_type": "execute_result"
    }
   ],
   "source": [
    "weights"
   ]
  },
  {
   "cell_type": "code",
   "execution_count": 752,
   "id": "f4d01da8-89aa-4032-8f70-7394e305b643",
   "metadata": {},
   "outputs": [
    {
     "data": {
      "image/png": "[encoded data removed]",
      "text/plain": [
       "<Figure size 640x480 with 1 Axes>"
      ]
     },
     "metadata": {},
     "output_type": "display_data"
    }
   ],
   "source": [
    "xcoord = np.array([n for n in range(epochs)]).reshape(epochs, 1)\n",
    "ycoord = np.array(loss).reshape(epochs, 1)\n",
    "plt.plot(xcoord, ycoord)\n",
    "plt.xscale('log')\n",
    "plt.yscale('log')"
   ]
  },
  {
   "cell_type": "code",
   "execution_count": 748,
   "id": "28063f4f-aa8a-4aaa-91f9-95bd132c2ac6",
   "metadata": {},
   "outputs": [
    {
     "name": "stdout",
     "output_type": "stream",
     "text": [
      "Input A: 0, Input B: 0, Prediction: 0.0005108333582539674\n",
      "Input A: 0, Input B: 1, Prediction: 0.9992420261244992\n",
      "Input A: 1, Input B: 0, Prediction: 0.9992440730231935\n",
      "Input A: 1, Input B: 1, Prediction: 0.0006108519125291228\n"
     ]
    }
   ],
   "source": [
    "for i in range(4):\n",
    "    activations = feed_forward(X[i], weights, biases) \n",
    "    p = activations[-1]\n",
    "    print(f'Input A: {X[i][0][0]}, Input B: {X[i][1][0]}, Prediction: {p[0][0]}')"
   ]
  },
  {
   "cell_type": "code",
   "execution_count": null,
   "id": "9b648e81-636c-42dd-8fab-d414ce395156",
   "metadata": {},
   "outputs": [],
   "source": []
  },
  {
   "cell_type": "code",
   "execution_count": null,
   "id": "56d35340-2aa8-4ad7-afed-84088dc295ed",
   "metadata": {},
   "outputs": [],
   "source": []
  }
 ],
 "metadata": {
  "kernelspec": {
   "display_name": "Python [conda env:base] *",
   "language": "python",
   "name": "conda-base-py"
  },
  "language_info": {
   "codemirror_mode": {
    "name": "ipython",
    "version": 3
   },
   "file_extension": ".py",
   "mimetype": "text/x-python",
   "name": "python",
   "nbconvert_exporter": "python",
   "pygments_lexer": "ipython3",
   "version": "3.12.7"
  }
 },
 "nbformat": 4,
 "nbformat_minor": 5
}
