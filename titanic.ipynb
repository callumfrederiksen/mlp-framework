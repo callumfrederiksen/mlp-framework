{
 "cells": [
  {
   "cell_type": "code",
   "execution_count": 1048,
   "id": "75a58c97-79e9-4165-8ace-f40dc24571a9",
   "metadata": {},
   "outputs": [],
   "source": [
    "import numpy as np\n",
    "import matplotlib.pyplot as plt\n",
    "from tqdm import tqdm\n",
    "import seaborn as sns\n",
    "from sklearn.utils import shuffle\n",
    "import pandas as pd"
   ]
  },
  {
   "cell_type": "code",
   "execution_count": 1050,
   "id": "02469c78-8e8c-47cc-b910-f5a6934bf3b5",
   "metadata": {},
   "outputs": [],
   "source": [
    "n = 10016\n",
    "batch_size = 32"
   ]
  },
  {
   "cell_type": "code",
   "execution_count": 1052,
   "id": "6aa0fb91-19f9-487d-afb1-96a5fc79d372",
   "metadata": {},
   "outputs": [
    {
     "name": "stdout",
     "output_type": "stream",
     "text": [
      "X shape: (714, 5)\n",
      "y shape: (714,)\n",
      "Unique y values: (array([0, 1]), array([424, 290]))\n"
     ]
    }
   ],
   "source": [
    "from sklearn.preprocessing import StandardScaler\n",
    "\n",
    "# Load Titanic dataset\n",
    "df = sns.load_dataset('titanic')\n",
    "\n",
    "# Drop rows with missing target values\n",
    "df = df.dropna(subset=['survived'])\n",
    "\n",
    "# Select numeric features\n",
    "features = ['pclass', 'age', 'sibsp', 'parch', 'fare']\n",
    "df = df.dropna(subset=features)  # Drop rows where *any* feature is NaN\n",
    "\n",
    "# Extract features and target\n",
    "X = df[features].values\n",
    "y = df['survived'].values\n",
    "\n",
    "# Normalize features\n",
    "scaler = StandardScaler()\n",
    "X = scaler.fit_transform(X)\n",
    "\n",
    "# Sanity check\n",
    "print(\"X shape:\", X.shape)\n",
    "print(\"y shape:\", y.shape)\n",
    "print(\"Unique y values:\", np.unique(y, return_counts=True))\n"
   ]
  },
  {
   "cell_type": "code",
   "execution_count": 1054,
   "id": "54cdb885-4cc8-4757-b6a7-c81a247f934c",
   "metadata": {},
   "outputs": [
    {
     "data": {
      "text/plain": [
       "(714, 5)"
      ]
     },
     "execution_count": 1054,
     "metadata": {},
     "output_type": "execute_result"
    }
   ],
   "source": [
    "X.shape"
   ]
  },
  {
   "cell_type": "code",
   "execution_count": 1056,
   "id": "d7c77073-eb5c-4afd-af0f-16b4b76338d6",
   "metadata": {},
   "outputs": [
    {
     "data": {
      "text/plain": [
       "22"
      ]
     },
     "execution_count": 1056,
     "metadata": {},
     "output_type": "execute_result"
    }
   ],
   "source": [
    "Xs = []\n",
    "Ys = []\n",
    "batch_num = int(np.ceil(len(X) / batch_size)) - 1\n",
    "batch_num"
   ]
  },
  {
   "cell_type": "code",
   "execution_count": 1058,
   "id": "a0f8e6c3-f069-4ba7-8387-23a15c4f7749",
   "metadata": {},
   "outputs": [
    {
     "data": {
      "text/plain": [
       "22"
      ]
     },
     "execution_count": 1058,
     "metadata": {},
     "output_type": "execute_result"
    }
   ],
   "source": [
    "for i in range(batch_num):\n",
    "    start = i * batch_size\n",
    "    end = start + batch_size\n",
    "    Xs.append(X[start:end])\n",
    "    Ys.append(Y[start:end])\n",
    "len(Xs)"
   ]
  },
  {
   "cell_type": "code",
   "execution_count": 1060,
   "id": "acf84648-11bd-42c8-aa36-2fbda6de26f8",
   "metadata": {},
   "outputs": [],
   "source": [
    "Xs = np.array(Xs[:-1]).reshape(batch_num-1, batch_size, 5, 1)\n",
    "Ys = np.array(Ys[:-1]).reshape(batch_num-1, batch_size, 1, 1)"
   ]
  },
  {
   "cell_type": "code",
   "execution_count": 1062,
   "id": "4a5652f5-d8ac-4d0a-8f09-06dbb10e8400",
   "metadata": {},
   "outputs": [],
   "source": [
    "size = [5, 10, 20, 5, 1]"
   ]
  },
  {
   "cell_type": "code",
   "execution_count": 1064,
   "id": "60650e61-bcef-4015-aef8-6eed1a938511",
   "metadata": {},
   "outputs": [],
   "source": [
    "weights = [0]\n",
    "biases = [0]\n",
    "for i in range(0, len(size) - 1):\n",
    "    weights.append(np.random.rand(size[i + 1], size[i]))\n",
    "    biases.append(np.random.rand(size[i + 1], 1))"
   ]
  },
  {
   "cell_type": "code",
   "execution_count": 1066,
   "id": "660bfc41-ba1f-4fe1-b45d-3301ef9cea48",
   "metadata": {
    "scrolled": true
   },
   "outputs": [
    {
     "data": {
      "text/plain": [
       "[0,\n",
       " array([[0.2010681 , 0.06848174, 0.81421182, 0.68095657, 0.22811698],\n",
       "        [0.22510682, 0.22862767, 0.90983385, 0.99901198, 0.09778822],\n",
       "        [0.7374772 , 0.87862621, 0.41724194, 0.2563717 , 0.57475815],\n",
       "        [0.97084372, 0.76962905, 0.16876432, 0.14558219, 0.97968385],\n",
       "        [0.7842365 , 0.93579671, 0.2250296 , 0.53989802, 0.55452207],\n",
       "        [0.25272163, 0.60435459, 0.14142012, 0.27278277, 0.96422105],\n",
       "        [0.61674422, 0.57144394, 0.5097466 , 0.9697523 , 0.08788044],\n",
       "        [0.75436777, 0.24194216, 0.15800456, 0.15498027, 0.33139754],\n",
       "        [0.38943406, 0.85586124, 0.73510209, 0.1271316 , 0.26692529],\n",
       "        [0.07973923, 0.39769984, 0.56359825, 0.57149975, 0.23865236]]),\n",
       " array([[7.34076955e-01, 1.89546425e-01, 5.56379138e-01, 5.10560167e-01,\n",
       "         8.66681986e-01, 8.45088917e-01, 1.27907095e-01, 3.02960312e-01,\n",
       "         9.27523845e-01, 7.94954557e-01],\n",
       "        [9.29848865e-01, 1.62777130e-01, 9.55705986e-01, 5.74695245e-01,\n",
       "         5.35454873e-01, 2.24032633e-01, 1.63521064e-04, 4.04370383e-01,\n",
       "         6.92730026e-01, 4.45600902e-02],\n",
       "        [1.20417924e-01, 3.44067972e-01, 6.14090928e-01, 5.93238288e-01,\n",
       "         5.74991302e-01, 6.13082901e-01, 8.72607494e-01, 6.98794064e-01,\n",
       "         2.24245581e-01, 8.68791218e-01],\n",
       "        [7.67469947e-01, 4.08472453e-01, 9.14659483e-01, 3.85421109e-01,\n",
       "         5.51454453e-01, 3.77159455e-01, 6.86664144e-01, 9.84589794e-01,\n",
       "         1.44346834e-01, 9.55132496e-01],\n",
       "        [2.57569669e-02, 3.06184562e-02, 7.21987014e-01, 1.64042550e-01,\n",
       "         2.90668371e-01, 6.94785960e-01, 6.23269983e-01, 8.55498327e-01,\n",
       "         1.52445475e-01, 5.36888352e-01],\n",
       "        [1.47297319e-01, 3.35955873e-01, 6.58483649e-01, 8.58783029e-01,\n",
       "         8.81514703e-01, 3.10328277e-01, 4.05888012e-01, 9.54250944e-01,\n",
       "         1.60788941e-01, 1.73749231e-01],\n",
       "        [9.26929172e-01, 5.74131842e-01, 2.47605933e-01, 1.09079598e-01,\n",
       "         1.51352847e-01, 1.34524805e-01, 4.23183013e-01, 4.71621447e-01,\n",
       "         8.21481831e-01, 2.80715444e-04],\n",
       "        [7.86326904e-01, 3.21066595e-01, 7.16828488e-01, 5.44749595e-01,\n",
       "         1.76125745e-01, 9.73611513e-01, 8.85018989e-01, 7.78106535e-01,\n",
       "         6.84382187e-01, 4.08779019e-01],\n",
       "        [6.37455701e-01, 5.30104390e-01, 5.09580015e-01, 9.80739525e-02,\n",
       "         7.65223636e-01, 9.14833955e-01, 5.55110955e-01, 2.94218510e-01,\n",
       "         3.66058786e-01, 6.93353149e-01],\n",
       "        [3.98022984e-01, 5.60037088e-01, 1.56179086e-02, 7.95491488e-01,\n",
       "         3.12227389e-01, 2.48523530e-01, 1.40228151e-01, 8.31294598e-01,\n",
       "         7.78648007e-01, 1.16353093e-01],\n",
       "        [4.75534458e-02, 5.09561879e-02, 1.20166000e-01, 7.96154799e-01,\n",
       "         4.84770264e-01, 9.43415168e-01, 3.40910946e-01, 9.58447858e-01,\n",
       "         6.01727191e-01, 8.08612300e-01],\n",
       "        [9.17487860e-02, 6.27029914e-02, 8.42581447e-03, 8.15760638e-01,\n",
       "         4.38733344e-02, 1.37835411e-01, 6.45337601e-01, 1.26029668e-01,\n",
       "         9.51931289e-01, 7.46283879e-01],\n",
       "        [9.40859468e-01, 7.26607593e-02, 9.56274000e-01, 9.18568091e-01,\n",
       "         6.57692226e-01, 3.16830123e-01, 8.97438119e-01, 4.39388902e-02,\n",
       "         7.29605029e-01, 4.61780066e-01],\n",
       "        [1.77424881e-01, 2.08882006e-01, 2.77006144e-01, 8.40610899e-01,\n",
       "         1.38853553e-01, 9.23033222e-01, 2.42504989e-01, 8.42577802e-01,\n",
       "         3.82446620e-01, 7.74547633e-01],\n",
       "        [1.03937135e-01, 4.42873142e-01, 6.83639548e-02, 7.60558535e-01,\n",
       "         7.84613830e-01, 9.72585067e-02, 3.60830258e-02, 6.03442443e-02,\n",
       "         3.29806010e-01, 8.33282355e-01],\n",
       "        [3.74923826e-01, 8.63306020e-01, 8.06231951e-01, 6.49025688e-01,\n",
       "         2.71195830e-01, 7.48655359e-01, 4.38265078e-01, 6.58320124e-01,\n",
       "         3.36717751e-01, 3.18574317e-01],\n",
       "        [9.70454666e-02, 8.99599711e-01, 9.84294272e-01, 4.07572841e-01,\n",
       "         7.69346068e-01, 1.53309247e-01, 1.46049535e-01, 3.85573765e-02,\n",
       "         9.35585018e-01, 1.21161166e-05],\n",
       "        [1.43900181e-01, 6.53566334e-01, 7.59483286e-01, 9.43662329e-01,\n",
       "         1.07159546e-01, 1.12492315e-01, 6.81433628e-01, 2.67173336e-01,\n",
       "         1.33450121e-01, 1.47431568e-01],\n",
       "        [3.90648289e-02, 2.92404175e-02, 2.12314827e-01, 3.12477757e-01,\n",
       "         6.18781381e-01, 1.24028633e-01, 6.18630090e-01, 4.46659467e-01,\n",
       "         1.38271711e-01, 5.47931997e-01],\n",
       "        [3.84388221e-01, 3.35921218e-01, 9.46863848e-01, 9.95524202e-01,\n",
       "         4.53258407e-01, 6.86820435e-01, 3.71233318e-01, 9.98510472e-01,\n",
       "         8.11752322e-01, 4.25608436e-01]]),\n",
       " array([[0.49623411, 0.36668173, 0.4709538 , 0.68690229, 0.79996239,\n",
       "         0.53401362, 0.36445097, 0.96440273, 0.09960818, 0.89215346,\n",
       "         0.39944584, 0.66849603, 0.17037607, 0.03188283, 0.17411255,\n",
       "         0.01055969, 0.71017703, 0.51036168, 0.94557702, 0.13817782],\n",
       "        [0.09626868, 0.25905033, 0.8169607 , 0.83119149, 0.19054197,\n",
       "         0.03269413, 0.95106321, 0.54310189, 0.48637809, 0.06427435,\n",
       "         0.05936358, 0.67499396, 0.60317706, 0.14540519, 0.04394485,\n",
       "         0.14970563, 0.67162758, 0.7644121 , 0.31825275, 0.68481707],\n",
       "        [0.92627789, 0.94141648, 0.46425501, 0.13730744, 0.93182573,\n",
       "         0.94617047, 0.58798526, 0.26725251, 0.22071831, 0.66401723,\n",
       "         0.73674543, 0.57383315, 0.36197841, 0.99056053, 0.59567069,\n",
       "         0.45291377, 0.92765114, 0.67301399, 0.00195023, 0.7930528 ],\n",
       "        [0.81567357, 0.7364907 , 0.51646602, 0.65948276, 0.29678716,\n",
       "         0.9250719 , 0.78671205, 0.90687773, 0.91539493, 0.68124256,\n",
       "         0.97521775, 0.89210828, 0.40522523, 0.68290821, 0.01079647,\n",
       "         0.53427743, 0.07952319, 0.16506737, 0.27157131, 0.97284562],\n",
       "        [0.74995286, 0.63239537, 0.18793203, 0.37348523, 0.34067028,\n",
       "         0.63868229, 0.78742337, 0.68837137, 0.09720241, 0.48309005,\n",
       "         0.41988601, 0.12081835, 0.90413621, 0.6286746 , 0.08867445,\n",
       "         0.52991618, 0.53043867, 0.27459751, 0.54679056, 0.62483636]]),\n",
       " array([[0.80505588, 0.92416502, 0.56262943, 0.76488023, 0.70923581]])]"
      ]
     },
     "execution_count": 1066,
     "metadata": {},
     "output_type": "execute_result"
    }
   ],
   "source": [
    "weights"
   ]
  },
  {
   "cell_type": "code",
   "execution_count": 1068,
   "id": "96724f97-0ff4-40ef-a51d-a5ba8ca08b42",
   "metadata": {},
   "outputs": [],
   "source": [
    "def sigmoid(x):\n",
    "    return 1 / (1 + np.exp(-x))"
   ]
  },
  {
   "cell_type": "code",
   "execution_count": 1070,
   "id": "5c51992c-9b7f-4133-8cae-5b3d37c6f5d6",
   "metadata": {},
   "outputs": [],
   "source": [
    "def L(y_hat, y):\n",
    "    return 0.5 * (y_hat - y) ** 2"
   ]
  },
  {
   "cell_type": "code",
   "execution_count": 1072,
   "id": "d2ce48b8-d9bb-4250-b881-285db0131a09",
   "metadata": {},
   "outputs": [],
   "source": [
    "def feed_forward(xi, weights, biases):\n",
    "    activations = [xi]\n",
    "    z1 = weights[1] @ xi + biases[1]\n",
    "    a1 = sigmoid(z1)\n",
    "    activations.append(a1)\n",
    "    for i in range(2, len(weights)):\n",
    "        zn = weights[i] @ activations[-1] + biases[i]\n",
    "        an = sigmoid(zn)\n",
    "        activations.append(an)\n",
    "    return activations"
   ]
  },
  {
   "cell_type": "code",
   "execution_count": 1074,
   "id": "0fc82b44-8373-49a6-a433-abb752f4c20b",
   "metadata": {},
   "outputs": [],
   "source": [
    "def sigmoid_derivative(y):\n",
    "    return y * ( 1 - y )"
   ]
  },
  {
   "cell_type": "code",
   "execution_count": 1076,
   "id": "533de124-4751-46b2-84ca-99d3ac888f1a",
   "metadata": {},
   "outputs": [],
   "source": [
    "def backprop(weights, biases, xi, y, activations):\n",
    "    deltas = [0] * len(activations)\n",
    "    dL_dwK = [0] * len(activations)\n",
    "    dL_dbK = [0] * len(activations)\n",
    "    \n",
    "    deltas[-1] = ( activations[-1] - y ) * sigmoid_derivative(activations[-1])\n",
    "    dL_dwK[-1] = deltas[-1] @ activations[-1].T\n",
    "    dL_dbK[-1] = deltas[-1]\n",
    "    \n",
    "    for i in range(len(deltas)-2, 0, -1):\n",
    "        deltas[i] = ( weights[i+1].T @ deltas[ i + 1 ] ) * sigmoid_derivative(activations[i])\n",
    "        dL_dwK[i] = deltas[i] @ activations[ i - 1 ].T\n",
    "        dL_dbK[i] = deltas[i]\n",
    "    \n",
    "    return dL_dwK, dL_dbK"
   ]
  },
  {
   "cell_type": "code",
   "execution_count": 1078,
   "id": "754edf66-0bf2-419d-9c02-1b1edce76f5b",
   "metadata": {
    "scrolled": true
   },
   "outputs": [
    {
     "name": "stdout",
     "output_type": "stream",
     "text": [
      "[array([[ 0.91123237],\n",
      "       [-0.25482473],\n",
      "       [-0.55170307],\n",
      "       [-0.50589515],\n",
      "       [-0.50621356]]), array([[0.45422731],\n",
      "       [0.49206232],\n",
      "       [0.593489  ],\n",
      "       [0.51616995],\n",
      "       [0.50829682],\n",
      "       [0.52268751],\n",
      "       [0.4926125 ],\n",
      "       [0.58916972],\n",
      "       [0.47567245],\n",
      "       [0.53811788]]), array([[0.97126075],\n",
      "       [0.93663563],\n",
      "       [0.97028402],\n",
      "       [0.98242849],\n",
      "       [0.94979757],\n",
      "       [0.95702501],\n",
      "       [0.9306446 ],\n",
      "       [0.97509872],\n",
      "       [0.96743367],\n",
      "       [0.92988048],\n",
      "       [0.97085693],\n",
      "       [0.91270822],\n",
      "       [0.98079298],\n",
      "       [0.96856086],\n",
      "       [0.91677278],\n",
      "       [0.97949281],\n",
      "       [0.96156811],\n",
      "       [0.90137319],\n",
      "       [0.90341007],\n",
      "       [0.98446015]]), array([[0.99987154],\n",
      "       [0.99974534],\n",
      "       [0.99999668],\n",
      "       [0.99999482],\n",
      "       [0.99993109]]), array([[0.97808449]])]\n",
      "(10, 5)\n",
      "(20, 10)\n",
      "(5, 20)\n",
      "(1, 1)\n"
     ]
    }
   ],
   "source": [
    "act = feed_forward(Xs[0][2], weights, biases)\n",
    "print(act)\n",
    "bc = backprop(weights, biases, Xs[0][2], Ys[0][2], act)[0]\n",
    "for w in bc:\n",
    "    if type(w) is not int: print(w.shape)"
   ]
  },
  {
   "cell_type": "code",
   "execution_count": 1080,
   "id": "57c258fe-634f-4306-98a5-45c3be894985",
   "metadata": {},
   "outputs": [],
   "source": [
    "epochs = 40\n",
    "lr = 0.8\n",
    "loss = []"
   ]
  },
  {
   "cell_type": "code",
   "execution_count": 1082,
   "id": "c2aa94e6-4745-4eb9-8110-fa0fbc845cff",
   "metadata": {
    "scrolled": true
   },
   "outputs": [
    {
     "name": "stderr",
     "output_type": "stream",
     "text": [
      "100%|███████████████████████████████████████████| 40/40 [00:01<00:00, 38.70it/s]\n"
     ]
    }
   ],
   "source": [
    "for i in tqdm(range(epochs)):\n",
    "    epochloss = 0\n",
    "    for j in range(batch_num-1):\n",
    "        for i, xi in enumerate(Xs[j]):\n",
    "            activations = feed_forward(xi, weights, biases)\n",
    "            epochloss += L(activations[-1], Ys[j,i])\n",
    "    \n",
    "            dL_dw, dL_db = backprop(weights, biases, xi, Ys[j,i], activations)\n",
    "            \n",
    "            for i, w in enumerate(weights):\n",
    "                w -= lr * dL_dw[i]\n",
    "            for i, b in enumerate(biases):\n",
    "                b -= lr * dL_db[i]\n",
    "            \n",
    "    loss.append(epochloss / n)"
   ]
  },
  {
   "cell_type": "code",
   "execution_count": 1083,
   "id": "f4d01da8-89aa-4032-8f70-7394e305b643",
   "metadata": {},
   "outputs": [
    {
     "data": {
      "text/plain": [
       "[<matplotlib.lines.Line2D at 0x17919b740>]"
      ]
     },
     "execution_count": 1083,
     "metadata": {},
     "output_type": "execute_result"
    },
    {
     "data": {
      "image/png": "[encoded data removed]",
      "text/plain": [
       "<Figure size 640x480 with 1 Axes>"
      ]
     },
     "metadata": {},
     "output_type": "display_data"
    }
   ],
   "source": [
    "xcoord = np.array([n for n in range(epochs)]).reshape(epochs, 1)\n",
    "ycoord = np.array(loss).reshape(epochs, 1)\n",
    "plt.plot(xcoord, ycoord)\n",
    "#plt.xscale('log')\n",
    "#plt.yscale('log')"
   ]
  },
  {
   "cell_type": "code",
   "execution_count": 1084,
   "id": "808ef9aa-5658-4302-9acb-38ba409b51ba",
   "metadata": {},
   "outputs": [
    {
     "data": {
      "text/html": [
       "<div>\n",
       "<style scoped>\n",
       "    .dataframe tbody tr th:only-of-type {\n",
       "        vertical-align: middle;\n",
       "    }\n",
       "\n",
       "    .dataframe tbody tr th {\n",
       "        vertical-align: top;\n",
       "    }\n",
       "\n",
       "    .dataframe thead th {\n",
       "        text-align: right;\n",
       "    }\n",
       "</style>\n",
       "<table border=\"1\" class=\"dataframe\">\n",
       "  <thead>\n",
       "    <tr style=\"text-align: right;\">\n",
       "      <th></th>\n",
       "      <th>survived</th>\n",
       "      <th>pclass</th>\n",
       "      <th>sex</th>\n",
       "      <th>age</th>\n",
       "      <th>sibsp</th>\n",
       "      <th>parch</th>\n",
       "      <th>fare</th>\n",
       "      <th>embarked</th>\n",
       "      <th>class</th>\n",
       "      <th>who</th>\n",
       "      <th>adult_male</th>\n",
       "      <th>deck</th>\n",
       "      <th>embark_town</th>\n",
       "      <th>alive</th>\n",
       "      <th>alone</th>\n",
       "    </tr>\n",
       "  </thead>\n",
       "  <tbody>\n",
       "    <tr>\n",
       "      <th>0</th>\n",
       "      <td>0</td>\n",
       "      <td>3</td>\n",
       "      <td>male</td>\n",
       "      <td>22.0</td>\n",
       "      <td>1</td>\n",
       "      <td>0</td>\n",
       "      <td>7.2500</td>\n",
       "      <td>S</td>\n",
       "      <td>Third</td>\n",
       "      <td>man</td>\n",
       "      <td>True</td>\n",
       "      <td>NaN</td>\n",
       "      <td>Southampton</td>\n",
       "      <td>no</td>\n",
       "      <td>False</td>\n",
       "    </tr>\n",
       "    <tr>\n",
       "      <th>1</th>\n",
       "      <td>1</td>\n",
       "      <td>1</td>\n",
       "      <td>female</td>\n",
       "      <td>38.0</td>\n",
       "      <td>1</td>\n",
       "      <td>0</td>\n",
       "      <td>71.2833</td>\n",
       "      <td>C</td>\n",
       "      <td>First</td>\n",
       "      <td>woman</td>\n",
       "      <td>False</td>\n",
       "      <td>C</td>\n",
       "      <td>Cherbourg</td>\n",
       "      <td>yes</td>\n",
       "      <td>False</td>\n",
       "    </tr>\n",
       "    <tr>\n",
       "      <th>2</th>\n",
       "      <td>1</td>\n",
       "      <td>3</td>\n",
       "      <td>female</td>\n",
       "      <td>26.0</td>\n",
       "      <td>0</td>\n",
       "      <td>0</td>\n",
       "      <td>7.9250</td>\n",
       "      <td>S</td>\n",
       "      <td>Third</td>\n",
       "      <td>woman</td>\n",
       "      <td>False</td>\n",
       "      <td>NaN</td>\n",
       "      <td>Southampton</td>\n",
       "      <td>yes</td>\n",
       "      <td>True</td>\n",
       "    </tr>\n",
       "    <tr>\n",
       "      <th>3</th>\n",
       "      <td>1</td>\n",
       "      <td>1</td>\n",
       "      <td>female</td>\n",
       "      <td>35.0</td>\n",
       "      <td>1</td>\n",
       "      <td>0</td>\n",
       "      <td>53.1000</td>\n",
       "      <td>S</td>\n",
       "      <td>First</td>\n",
       "      <td>woman</td>\n",
       "      <td>False</td>\n",
       "      <td>C</td>\n",
       "      <td>Southampton</td>\n",
       "      <td>yes</td>\n",
       "      <td>False</td>\n",
       "    </tr>\n",
       "    <tr>\n",
       "      <th>4</th>\n",
       "      <td>0</td>\n",
       "      <td>3</td>\n",
       "      <td>male</td>\n",
       "      <td>35.0</td>\n",
       "      <td>0</td>\n",
       "      <td>0</td>\n",
       "      <td>8.0500</td>\n",
       "      <td>S</td>\n",
       "      <td>Third</td>\n",
       "      <td>man</td>\n",
       "      <td>True</td>\n",
       "      <td>NaN</td>\n",
       "      <td>Southampton</td>\n",
       "      <td>no</td>\n",
       "      <td>True</td>\n",
       "    </tr>\n",
       "    <tr>\n",
       "      <th>...</th>\n",
       "      <td>...</td>\n",
       "      <td>...</td>\n",
       "      <td>...</td>\n",
       "      <td>...</td>\n",
       "      <td>...</td>\n",
       "      <td>...</td>\n",
       "      <td>...</td>\n",
       "      <td>...</td>\n",
       "      <td>...</td>\n",
       "      <td>...</td>\n",
       "      <td>...</td>\n",
       "      <td>...</td>\n",
       "      <td>...</td>\n",
       "      <td>...</td>\n",
       "      <td>...</td>\n",
       "    </tr>\n",
       "    <tr>\n",
       "      <th>885</th>\n",
       "      <td>0</td>\n",
       "      <td>3</td>\n",
       "      <td>female</td>\n",
       "      <td>39.0</td>\n",
       "      <td>0</td>\n",
       "      <td>5</td>\n",
       "      <td>29.1250</td>\n",
       "      <td>Q</td>\n",
       "      <td>Third</td>\n",
       "      <td>woman</td>\n",
       "      <td>False</td>\n",
       "      <td>NaN</td>\n",
       "      <td>Queenstown</td>\n",
       "      <td>no</td>\n",
       "      <td>False</td>\n",
       "    </tr>\n",
       "    <tr>\n",
       "      <th>886</th>\n",
       "      <td>0</td>\n",
       "      <td>2</td>\n",
       "      <td>male</td>\n",
       "      <td>27.0</td>\n",
       "      <td>0</td>\n",
       "      <td>0</td>\n",
       "      <td>13.0000</td>\n",
       "      <td>S</td>\n",
       "      <td>Second</td>\n",
       "      <td>man</td>\n",
       "      <td>True</td>\n",
       "      <td>NaN</td>\n",
       "      <td>Southampton</td>\n",
       "      <td>no</td>\n",
       "      <td>True</td>\n",
       "    </tr>\n",
       "    <tr>\n",
       "      <th>887</th>\n",
       "      <td>1</td>\n",
       "      <td>1</td>\n",
       "      <td>female</td>\n",
       "      <td>19.0</td>\n",
       "      <td>0</td>\n",
       "      <td>0</td>\n",
       "      <td>30.0000</td>\n",
       "      <td>S</td>\n",
       "      <td>First</td>\n",
       "      <td>woman</td>\n",
       "      <td>False</td>\n",
       "      <td>B</td>\n",
       "      <td>Southampton</td>\n",
       "      <td>yes</td>\n",
       "      <td>True</td>\n",
       "    </tr>\n",
       "    <tr>\n",
       "      <th>889</th>\n",
       "      <td>1</td>\n",
       "      <td>1</td>\n",
       "      <td>male</td>\n",
       "      <td>26.0</td>\n",
       "      <td>0</td>\n",
       "      <td>0</td>\n",
       "      <td>30.0000</td>\n",
       "      <td>C</td>\n",
       "      <td>First</td>\n",
       "      <td>man</td>\n",
       "      <td>True</td>\n",
       "      <td>C</td>\n",
       "      <td>Cherbourg</td>\n",
       "      <td>yes</td>\n",
       "      <td>True</td>\n",
       "    </tr>\n",
       "    <tr>\n",
       "      <th>890</th>\n",
       "      <td>0</td>\n",
       "      <td>3</td>\n",
       "      <td>male</td>\n",
       "      <td>32.0</td>\n",
       "      <td>0</td>\n",
       "      <td>0</td>\n",
       "      <td>7.7500</td>\n",
       "      <td>Q</td>\n",
       "      <td>Third</td>\n",
       "      <td>man</td>\n",
       "      <td>True</td>\n",
       "      <td>NaN</td>\n",
       "      <td>Queenstown</td>\n",
       "      <td>no</td>\n",
       "      <td>True</td>\n",
       "    </tr>\n",
       "  </tbody>\n",
       "</table>\n",
       "<p>714 rows × 15 columns</p>\n",
       "</div>"
      ],
      "text/plain": [
       "     survived  pclass     sex   age  sibsp  parch     fare embarked   class  \\\n",
       "0           0       3    male  22.0      1      0   7.2500        S   Third   \n",
       "1           1       1  female  38.0      1      0  71.2833        C   First   \n",
       "2           1       3  female  26.0      0      0   7.9250        S   Third   \n",
       "3           1       1  female  35.0      1      0  53.1000        S   First   \n",
       "4           0       3    male  35.0      0      0   8.0500        S   Third   \n",
       "..        ...     ...     ...   ...    ...    ...      ...      ...     ...   \n",
       "885         0       3  female  39.0      0      5  29.1250        Q   Third   \n",
       "886         0       2    male  27.0      0      0  13.0000        S  Second   \n",
       "887         1       1  female  19.0      0      0  30.0000        S   First   \n",
       "889         1       1    male  26.0      0      0  30.0000        C   First   \n",
       "890         0       3    male  32.0      0      0   7.7500        Q   Third   \n",
       "\n",
       "       who  adult_male deck  embark_town alive  alone  \n",
       "0      man        True  NaN  Southampton    no  False  \n",
       "1    woman       False    C    Cherbourg   yes  False  \n",
       "2    woman       False  NaN  Southampton   yes   True  \n",
       "3    woman       False    C  Southampton   yes  False  \n",
       "4      man        True  NaN  Southampton    no   True  \n",
       "..     ...         ...  ...          ...   ...    ...  \n",
       "885  woman       False  NaN   Queenstown    no  False  \n",
       "886    man        True  NaN  Southampton    no   True  \n",
       "887  woman       False    B  Southampton   yes   True  \n",
       "889    man        True    C    Cherbourg   yes   True  \n",
       "890    man        True  NaN   Queenstown    no   True  \n",
       "\n",
       "[714 rows x 15 columns]"
      ]
     },
     "execution_count": 1084,
     "metadata": {},
     "output_type": "execute_result"
    }
   ],
   "source": [
    "df"
   ]
  },
  {
   "cell_type": "code",
   "execution_count": 1085,
   "id": "d9a6036b-a68f-452e-820d-21fed21bf0e0",
   "metadata": {},
   "outputs": [],
   "source": [
    "ex = 0\n",
    "se = 1"
   ]
  },
  {
   "cell_type": "code",
   "execution_count": 1086,
   "id": "f72fde3d-3625-4db0-bb3f-231ebbeabb7a",
   "metadata": {},
   "outputs": [
    {
     "data": {
      "text/plain": [
       "array([[0]])"
      ]
     },
     "execution_count": 1086,
     "metadata": {},
     "output_type": "execute_result"
    }
   ],
   "source": [
    "Ys[0, ex]"
   ]
  },
  {
   "cell_type": "code",
   "execution_count": 1092,
   "id": "59288b28-3b45-435b-bd53-939de93974ee",
   "metadata": {
    "scrolled": true
   },
   "outputs": [
    {
     "data": {
      "text/plain": [
       "array([[0.14630706]])"
      ]
     },
     "execution_count": 1092,
     "metadata": {},
     "output_type": "execute_result"
    }
   ],
   "source": [
    "feed_forward(Xs[0, ex], weights, biases)[-1]"
   ]
  },
  {
   "cell_type": "code",
   "execution_count": 1094,
   "id": "3208b369-4966-4a54-84a9-a2f7b35861f1",
   "metadata": {},
   "outputs": [],
   "source": [
    "s = 0\n",
    "for se in range(len(Xs)):\n",
    "    for i in range(32):\n",
    "        if (feed_forward(Xs[se, i], weights, biases)[-1] >= 0.5 and Ys[se, i] != 1) or (feed_forward(Xs[se, i], weights, biases)[-1] < 0.5 and Ys[se, i] != 0):\n",
    "            s += 1"
   ]
  },
  {
   "cell_type": "code",
   "execution_count": 1096,
   "id": "d14137c2-4a57-42e4-a69e-aea2ebb84883",
   "metadata": {},
   "outputs": [
    {
     "data": {
      "text/plain": [
       "183"
      ]
     },
     "execution_count": 1096,
     "metadata": {},
     "output_type": "execute_result"
    }
   ],
   "source": [
    "s"
   ]
  },
  {
   "cell_type": "code",
   "execution_count": 1098,
   "id": "5aa30fd3-0459-4df4-abfc-5c2c3d973828",
   "metadata": {},
   "outputs": [
    {
     "name": "stdout",
     "output_type": "stream",
     "text": [
      "72.77% Accuracy\n"
     ]
    }
   ],
   "source": [
    "print(f'{((len(Xs) * 32 - s) / (len(Xs) * 32) * 100):.2f}% Accuracy')"
   ]
  },
  {
   "cell_type": "code",
   "execution_count": null,
   "id": "c87663c2-b071-4446-ab65-66aeb0d99219",
   "metadata": {},
   "outputs": [],
   "source": []
  },
  {
   "cell_type": "code",
   "execution_count": null,
   "id": "7be99462-7fe9-4d40-bbad-b7080407b48e",
   "metadata": {},
   "outputs": [],
   "source": []
  },
  {
   "cell_type": "code",
   "execution_count": null,
   "id": "9744ae85-0046-4861-b9e8-28a4861fa5f3",
   "metadata": {},
   "outputs": [],
   "source": []
  }
 ],
 "metadata": {
  "kernelspec": {
   "display_name": "Python [conda env:base] *",
   "language": "python",
   "name": "conda-base-py"
  },
  "language_info": {
   "codemirror_mode": {
    "name": "ipython",
    "version": 3
   },
   "file_extension": ".py",
   "mimetype": "text/x-python",
   "name": "python",
   "nbconvert_exporter": "python",
   "pygments_lexer": "ipython3",
   "version": "3.12.7"
  }
 },
 "nbformat": 4,
 "nbformat_minor": 5
}
